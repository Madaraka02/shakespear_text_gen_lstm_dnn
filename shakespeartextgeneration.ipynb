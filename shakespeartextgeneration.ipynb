{
 "cells": [
  {
   "cell_type": "code",
   "execution_count": 1,
   "id": "9c9fe29b",
   "metadata": {
    "_cell_guid": "b1076dfc-b9ad-4769-8c92-a6c4dae69d19",
    "_uuid": "8f2839f25d086af736a60e9eeb907d3b93b6e0e5",
    "execution": {
     "iopub.execute_input": "2022-05-03T14:13:50.017402Z",
     "iopub.status.busy": "2022-05-03T14:13:50.016932Z",
     "iopub.status.idle": "2022-05-03T14:13:50.031811Z",
     "shell.execute_reply": "2022-05-03T14:13:50.030913Z"
    },
    "papermill": {
     "duration": 0.056094,
     "end_time": "2022-05-03T14:13:50.034272",
     "exception": false,
     "start_time": "2022-05-03T14:13:49.978178",
     "status": "completed"
    },
    "tags": []
   },
   "outputs": [],
   "source": [
    "# This Python 3 environment comes with many helpful analytics libraries installed\n",
    "# It is defined by the kaggle/python Docker image: https://github.com/kaggle/docker-python\n",
    "# For example, here's several helpful packages to load\n",
    "\n",
    "import numpy as np # linear algebra\n",
    "import pandas as pd # data processing, CSV file I/O (e.g. pd.read_csv)\n",
    "\n",
    "# Input data files are available in the read-only \"../input/\" directory\n",
    "# For example, running this (by clicking run or pressing Shift+Enter) will list all files under the input directory\n",
    "\n",
    "import os\n",
    "for dirname, _, filenames in os.walk('/kaggle/input'):\n",
    "    for filename in filenames:\n",
    "        print(os.path.join(dirname, filename))\n",
    "\n",
    "# You can write up to 20GB to the current directory (/kaggle/working/) that gets preserved as output when you create a version using \"Save & Run All\" \n",
    "# You can also write temporary files to /kaggle/temp/, but they won't be saved outside of the current session"
   ]
  },
  {
   "cell_type": "code",
   "execution_count": 2,
   "id": "2d47530d",
   "metadata": {
    "execution": {
     "iopub.execute_input": "2022-05-03T14:13:50.105761Z",
     "iopub.status.busy": "2022-05-03T14:13:50.105506Z",
     "iopub.status.idle": "2022-05-03T14:13:55.088321Z",
     "shell.execute_reply": "2022-05-03T14:13:55.087339Z"
    },
    "papermill": {
     "duration": 5.021177,
     "end_time": "2022-05-03T14:13:55.090896",
     "exception": false,
     "start_time": "2022-05-03T14:13:50.069719",
     "status": "completed"
    },
    "tags": []
   },
   "outputs": [],
   "source": [
    "import pandas as pd\n",
    "import numpy as np\n",
    "import requests\n",
    "import tensorflow as tf\n",
    "import string"
   ]
  },
  {
   "cell_type": "code",
   "execution_count": 3,
   "id": "fa4626fc",
   "metadata": {
    "execution": {
     "iopub.execute_input": "2022-05-03T14:13:55.162844Z",
     "iopub.status.busy": "2022-05-03T14:13:55.162556Z",
     "iopub.status.idle": "2022-05-03T14:13:57.071012Z",
     "shell.execute_reply": "2022-05-03T14:13:57.070090Z"
    },
    "papermill": {
     "duration": 1.947662,
     "end_time": "2022-05-03T14:13:57.073803",
     "exception": false,
     "start_time": "2022-05-03T14:13:55.126141",
     "status": "completed"
    },
    "tags": []
   },
   "outputs": [],
   "source": [
    "response = requests.get('https://ocw.mit.edu/ans7870/6/6.006/s08/lecturenotes/files/t8.shakespeare.txt')"
   ]
  },
  {
   "cell_type": "code",
   "execution_count": 4,
   "id": "0ad77ddf",
   "metadata": {
    "execution": {
     "iopub.execute_input": "2022-05-03T14:13:57.146390Z",
     "iopub.status.busy": "2022-05-03T14:13:57.146092Z",
     "iopub.status.idle": "2022-05-03T14:13:57.176394Z",
     "shell.execute_reply": "2022-05-03T14:13:57.175431Z"
    },
    "papermill": {
     "duration": 0.069714,
     "end_time": "2022-05-03T14:13:57.179457",
     "exception": false,
     "start_time": "2022-05-03T14:13:57.109743",
     "status": "completed"
    },
    "tags": []
   },
   "outputs": [
    {
     "data": {
      "text/plain": [
       "'  From fairest creatures we desire increase,'"
      ]
     },
     "execution_count": 4,
     "metadata": {},
     "output_type": "execute_result"
    }
   ],
   "source": [
    "data = response.text.split('\\n')\n",
    "data = data[253:]\n",
    "data[0]"
   ]
  },
  {
   "cell_type": "code",
   "execution_count": 5,
   "id": "8a938769",
   "metadata": {
    "execution": {
     "iopub.execute_input": "2022-05-03T14:13:57.254998Z",
     "iopub.status.busy": "2022-05-03T14:13:57.254335Z",
     "iopub.status.idle": "2022-05-03T14:13:57.260495Z",
     "shell.execute_reply": "2022-05-03T14:13:57.259556Z"
    },
    "papermill": {
     "duration": 0.047253,
     "end_time": "2022-05-03T14:13:57.263009",
     "exception": false,
     "start_time": "2022-05-03T14:13:57.215756",
     "status": "completed"
    },
    "tags": []
   },
   "outputs": [
    {
     "data": {
      "text/plain": [
       "124204"
      ]
     },
     "execution_count": 5,
     "metadata": {},
     "output_type": "execute_result"
    }
   ],
   "source": [
    "len(data)"
   ]
  },
  {
   "cell_type": "code",
   "execution_count": 6,
   "id": "82f37f71",
   "metadata": {
    "execution": {
     "iopub.execute_input": "2022-05-03T14:13:57.338686Z",
     "iopub.status.busy": "2022-05-03T14:13:57.337668Z",
     "iopub.status.idle": "2022-05-03T14:13:57.352433Z",
     "shell.execute_reply": "2022-05-03T14:13:57.351451Z"
    },
    "papermill": {
     "duration": 0.05589,
     "end_time": "2022-05-03T14:13:57.354952",
     "exception": false,
     "start_time": "2022-05-03T14:13:57.299062",
     "status": "completed"
    },
    "tags": []
   },
   "outputs": [],
   "source": [
    "data = \" \".join(data)"
   ]
  },
  {
   "cell_type": "code",
   "execution_count": 7,
   "id": "03896139",
   "metadata": {
    "execution": {
     "iopub.execute_input": "2022-05-03T14:13:57.428301Z",
     "iopub.status.busy": "2022-05-03T14:13:57.428026Z",
     "iopub.status.idle": "2022-05-03T14:13:57.434535Z",
     "shell.execute_reply": "2022-05-03T14:13:57.433576Z"
    },
    "papermill": {
     "duration": 0.046157,
     "end_time": "2022-05-03T14:13:57.436888",
     "exception": false,
     "start_time": "2022-05-03T14:13:57.390731",
     "status": "completed"
    },
    "tags": []
   },
   "outputs": [],
   "source": [
    "def clean_text(doc):\n",
    "    tokens = doc.split() #create tokens based on whitepace if more than one whitespace then a whitespace is treated as a token\n",
    "    translation_table = str.maketrans('', '', string.punctuation) #get all punctuation\n",
    "    tokens = [w.translate(translation_table) for w in tokens] #remove punctiation from strings and append them to the tokens list\n",
    "    tokens = [word for word in tokens if word.isalpha()] #append only words which are alphabets\n",
    "    tokens = [word.lower() for word in tokens] #make all word lowercase\n",
    "    return tokens"
   ]
  },
  {
   "cell_type": "code",
   "execution_count": 8,
   "id": "27cd2f90",
   "metadata": {
    "execution": {
     "iopub.execute_input": "2022-05-03T14:13:57.510045Z",
     "iopub.status.busy": "2022-05-03T14:13:57.509281Z",
     "iopub.status.idle": "2022-05-03T14:13:58.323435Z",
     "shell.execute_reply": "2022-05-03T14:13:58.322468Z"
    },
    "papermill": {
     "duration": 0.853915,
     "end_time": "2022-05-03T14:13:58.326366",
     "exception": false,
     "start_time": "2022-05-03T14:13:57.472451",
     "status": "completed"
    },
    "tags": []
   },
   "outputs": [],
   "source": [
    "tokens = clean_text(data)"
   ]
  },
  {
   "cell_type": "code",
   "execution_count": 9,
   "id": "d21f4fc4",
   "metadata": {
    "execution": {
     "iopub.execute_input": "2022-05-03T14:13:58.400285Z",
     "iopub.status.busy": "2022-05-03T14:13:58.400004Z",
     "iopub.status.idle": "2022-05-03T14:13:58.406586Z",
     "shell.execute_reply": "2022-05-03T14:13:58.405481Z"
    },
    "papermill": {
     "duration": 0.046908,
     "end_time": "2022-05-03T14:13:58.410133",
     "exception": false,
     "start_time": "2022-05-03T14:13:58.363225",
     "status": "completed"
    },
    "tags": []
   },
   "outputs": [
    {
     "data": {
      "text/plain": [
       "['from',\n",
       " 'fairest',\n",
       " 'creatures',\n",
       " 'we',\n",
       " 'desire',\n",
       " 'increase',\n",
       " 'that',\n",
       " 'thereby',\n",
       " 'beautys',\n",
       " 'rose']"
      ]
     },
     "execution_count": 9,
     "metadata": {},
     "output_type": "execute_result"
    }
   ],
   "source": [
    "tokens[:10]"
   ]
  },
  {
   "cell_type": "code",
   "execution_count": 10,
   "id": "b95f4441",
   "metadata": {
    "execution": {
     "iopub.execute_input": "2022-05-03T14:13:58.482792Z",
     "iopub.status.busy": "2022-05-03T14:13:58.482528Z",
     "iopub.status.idle": "2022-05-03T14:13:58.488335Z",
     "shell.execute_reply": "2022-05-03T14:13:58.487397Z"
    },
    "papermill": {
     "duration": 0.045179,
     "end_time": "2022-05-03T14:13:58.490722",
     "exception": false,
     "start_time": "2022-05-03T14:13:58.445543",
     "status": "completed"
    },
    "tags": []
   },
   "outputs": [
    {
     "data": {
      "text/plain": [
       "898199"
      ]
     },
     "execution_count": 10,
     "metadata": {},
     "output_type": "execute_result"
    }
   ],
   "source": [
    "len(tokens)"
   ]
  },
  {
   "cell_type": "code",
   "execution_count": 11,
   "id": "bd9c928d",
   "metadata": {
    "execution": {
     "iopub.execute_input": "2022-05-03T14:13:58.577233Z",
     "iopub.status.busy": "2022-05-03T14:13:58.576959Z",
     "iopub.status.idle": "2022-05-03T14:13:58.654107Z",
     "shell.execute_reply": "2022-05-03T14:13:58.652994Z"
    },
    "papermill": {
     "duration": 0.131107,
     "end_time": "2022-05-03T14:13:58.657959",
     "exception": false,
     "start_time": "2022-05-03T14:13:58.526852",
     "status": "completed"
    },
    "tags": []
   },
   "outputs": [
    {
     "data": {
      "text/plain": [
       "27956"
      ]
     },
     "execution_count": 11,
     "metadata": {},
     "output_type": "execute_result"
    }
   ],
   "source": [
    "len(set(tokens)) #total number of unique words"
   ]
  },
  {
   "cell_type": "code",
   "execution_count": 12,
   "id": "0120e349",
   "metadata": {
    "execution": {
     "iopub.execute_input": "2022-05-03T14:13:58.734780Z",
     "iopub.status.busy": "2022-05-03T14:13:58.733970Z",
     "iopub.status.idle": "2022-05-03T14:13:58.738400Z",
     "shell.execute_reply": "2022-05-03T14:13:58.737484Z"
    },
    "papermill": {
     "duration": 0.045288,
     "end_time": "2022-05-03T14:13:58.740537",
     "exception": false,
     "start_time": "2022-05-03T14:13:58.695249",
     "status": "completed"
    },
    "tags": []
   },
   "outputs": [],
   "source": [
    "length = 50 + 1 #total number of input word 1 is for prediction(output)"
   ]
  },
  {
   "cell_type": "code",
   "execution_count": 13,
   "id": "11f127b0",
   "metadata": {
    "execution": {
     "iopub.execute_input": "2022-05-03T14:13:58.816719Z",
     "iopub.status.busy": "2022-05-03T14:13:58.815938Z",
     "iopub.status.idle": "2022-05-03T14:13:58.942384Z",
     "shell.execute_reply": "2022-05-03T14:13:58.940056Z"
    },
    "papermill": {
     "duration": 0.168064,
     "end_time": "2022-05-03T14:13:58.945540",
     "exception": false,
     "start_time": "2022-05-03T14:13:58.777476",
     "status": "completed"
    },
    "tags": []
   },
   "outputs": [
    {
     "name": "stdout",
     "output_type": "stream",
     "text": [
      "49951\n"
     ]
    }
   ],
   "source": [
    "lines =[]\n",
    "\n",
    "for i in range(length, len(tokens)):\n",
    "    seq = tokens[i-length:i] #take tokens from index 0 to 51\n",
    "    line = ' '.join(seq) #join all the tokens in the seq to make a line \n",
    "    lines.append(line)\n",
    "    if i > 50000:\n",
    "        break  #help in training with low computing power to only read 200k tokens\n",
    "\n",
    "print(len(lines))"
   ]
  },
  {
   "cell_type": "code",
   "execution_count": 14,
   "id": "a3673846",
   "metadata": {
    "execution": {
     "iopub.execute_input": "2022-05-03T14:13:59.021953Z",
     "iopub.status.busy": "2022-05-03T14:13:59.021224Z",
     "iopub.status.idle": "2022-05-03T14:13:59.028346Z",
     "shell.execute_reply": "2022-05-03T14:13:59.027239Z"
    },
    "papermill": {
     "duration": 0.04764,
     "end_time": "2022-05-03T14:13:59.030567",
     "exception": false,
     "start_time": "2022-05-03T14:13:58.982927",
     "status": "completed"
    },
    "tags": []
   },
   "outputs": [
    {
     "data": {
      "text/plain": [
       "'from fairest creatures we desire increase that thereby beautys rose might never die but as the riper should by time decease his tender heir might bear his memory but thou contracted to thine own bright eyes feedst thy lights flame with selfsubstantial fuel making a famine where abundance lies thy self'"
      ]
     },
     "execution_count": 14,
     "metadata": {},
     "output_type": "execute_result"
    }
   ],
   "source": [
    "lines[0] #first ine with 51 tokens"
   ]
  },
  {
   "cell_type": "code",
   "execution_count": 15,
   "id": "a534b7eb",
   "metadata": {
    "execution": {
     "iopub.execute_input": "2022-05-03T14:13:59.107566Z",
     "iopub.status.busy": "2022-05-03T14:13:59.106701Z",
     "iopub.status.idle": "2022-05-03T14:13:59.113817Z",
     "shell.execute_reply": "2022-05-03T14:13:59.112704Z"
    },
    "papermill": {
     "duration": 0.04787,
     "end_time": "2022-05-03T14:13:59.115982",
     "exception": false,
     "start_time": "2022-05-03T14:13:59.068112",
     "status": "completed"
    },
    "tags": []
   },
   "outputs": [
    {
     "data": {
      "text/plain": [
       "'fairest creatures we desire increase that thereby beautys rose might never die but as the riper should by time decease his tender heir might bear his memory but thou contracted to thine own bright eyes feedst thy lights flame with selfsubstantial fuel making a famine where abundance lies thy self thy'"
      ]
     },
     "execution_count": 15,
     "metadata": {},
     "output_type": "execute_result"
    }
   ],
   "source": [
    "lines[1] #does not have \"from\""
   ]
  },
  {
   "cell_type": "code",
   "execution_count": 16,
   "id": "66f853c0",
   "metadata": {
    "execution": {
     "iopub.execute_input": "2022-05-03T14:13:59.193820Z",
     "iopub.status.busy": "2022-05-03T14:13:59.193032Z",
     "iopub.status.idle": "2022-05-03T14:14:00.197140Z",
     "shell.execute_reply": "2022-05-03T14:14:00.196152Z"
    },
    "papermill": {
     "duration": 1.045947,
     "end_time": "2022-05-03T14:14:00.200017",
     "exception": false,
     "start_time": "2022-05-03T14:13:59.154070",
     "status": "completed"
    },
    "tags": []
   },
   "outputs": [],
   "source": [
    "# spplit X and y\n",
    "from tensorflow.keras.preprocessing.text import Tokenizer\n",
    "from tensorflow.keras.utils import to_categorical\n",
    "from tensorflow.keras.models import Sequential\n",
    "from tensorflow.keras.layers import Dense, LSTM, Embedding\n",
    "from tensorflow.keras.preprocessing.sequence import pad_sequences"
   ]
  },
  {
   "cell_type": "code",
   "execution_count": 17,
   "id": "3ae90729",
   "metadata": {
    "execution": {
     "iopub.execute_input": "2022-05-03T14:14:00.284252Z",
     "iopub.status.busy": "2022-05-03T14:14:00.283969Z",
     "iopub.status.idle": "2022-05-03T14:14:04.426385Z",
     "shell.execute_reply": "2022-05-03T14:14:04.425437Z"
    },
    "papermill": {
     "duration": 4.189684,
     "end_time": "2022-05-03T14:14:04.428945",
     "exception": false,
     "start_time": "2022-05-03T14:14:00.239261",
     "status": "completed"
    },
    "tags": []
   },
   "outputs": [],
   "source": [
    "tokenizer = Tokenizer()\n",
    "tokenizer.fit_on_texts(lines)\n",
    "sequences = tokenizer.texts_to_sequences(lines)"
   ]
  },
  {
   "cell_type": "code",
   "execution_count": 18,
   "id": "b09ad097",
   "metadata": {
    "execution": {
     "iopub.execute_input": "2022-05-03T14:14:04.507150Z",
     "iopub.status.busy": "2022-05-03T14:14:04.506846Z",
     "iopub.status.idle": "2022-05-03T14:14:04.842316Z",
     "shell.execute_reply": "2022-05-03T14:14:04.841316Z"
    },
    "papermill": {
     "duration": 0.377172,
     "end_time": "2022-05-03T14:14:04.844663",
     "exception": false,
     "start_time": "2022-05-03T14:14:04.467491",
     "status": "completed"
    },
    "tags": []
   },
   "outputs": [],
   "source": [
    "sequences = np.array(sequences)"
   ]
  },
  {
   "cell_type": "code",
   "execution_count": 19,
   "id": "51fcef1a",
   "metadata": {
    "execution": {
     "iopub.execute_input": "2022-05-03T14:14:04.922674Z",
     "iopub.status.busy": "2022-05-03T14:14:04.922361Z",
     "iopub.status.idle": "2022-05-03T14:14:04.927143Z",
     "shell.execute_reply": "2022-05-03T14:14:04.926216Z"
    },
    "papermill": {
     "duration": 0.046562,
     "end_time": "2022-05-03T14:14:04.929289",
     "exception": false,
     "start_time": "2022-05-03T14:14:04.882727",
     "status": "completed"
    },
    "tags": []
   },
   "outputs": [],
   "source": [
    "X, y = sequences[:, :-1], sequences[:,-1] #sequences[:, :-1] : all rows :-1 all columns except the last sequences[:,-1] all rows and the last column"
   ]
  },
  {
   "cell_type": "code",
   "execution_count": 20,
   "id": "733c8ba6",
   "metadata": {
    "execution": {
     "iopub.execute_input": "2022-05-03T14:14:05.007895Z",
     "iopub.status.busy": "2022-05-03T14:14:05.007042Z",
     "iopub.status.idle": "2022-05-03T14:14:05.014563Z",
     "shell.execute_reply": "2022-05-03T14:14:05.013615Z"
    },
    "papermill": {
     "duration": 0.049346,
     "end_time": "2022-05-03T14:14:05.016797",
     "exception": false,
     "start_time": "2022-05-03T14:14:04.967451",
     "status": "completed"
    },
    "tags": []
   },
   "outputs": [
    {
     "data": {
      "text/plain": [
       "6029"
      ]
     },
     "execution_count": 20,
     "metadata": {},
     "output_type": "execute_result"
    }
   ],
   "source": [
    "vocab_size = len(tokenizer.word_index) + 1\n",
    "vocab_size"
   ]
  },
  {
   "cell_type": "code",
   "execution_count": 21,
   "id": "64606f50",
   "metadata": {
    "execution": {
     "iopub.execute_input": "2022-05-03T14:14:05.102914Z",
     "iopub.status.busy": "2022-05-03T14:14:05.102631Z",
     "iopub.status.idle": "2022-05-03T14:14:05.213537Z",
     "shell.execute_reply": "2022-05-03T14:14:05.212592Z"
    },
    "papermill": {
     "duration": 0.156839,
     "end_time": "2022-05-03T14:14:05.215943",
     "exception": false,
     "start_time": "2022-05-03T14:14:05.059104",
     "status": "completed"
    },
    "tags": []
   },
   "outputs": [],
   "source": [
    "y = to_categorical(y, num_classes = vocab_size)"
   ]
  },
  {
   "cell_type": "code",
   "execution_count": 22,
   "id": "e6038da0",
   "metadata": {
    "execution": {
     "iopub.execute_input": "2022-05-03T14:14:05.295816Z",
     "iopub.status.busy": "2022-05-03T14:14:05.295520Z",
     "iopub.status.idle": "2022-05-03T14:14:05.302097Z",
     "shell.execute_reply": "2022-05-03T14:14:05.301183Z"
    },
    "papermill": {
     "duration": 0.04973,
     "end_time": "2022-05-03T14:14:05.304381",
     "exception": false,
     "start_time": "2022-05-03T14:14:05.254651",
     "status": "completed"
    },
    "tags": []
   },
   "outputs": [
    {
     "data": {
      "text/plain": [
       "array([0., 0., 0., ..., 0., 0., 0.], dtype=float32)"
      ]
     },
     "execution_count": 22,
     "metadata": {},
     "output_type": "execute_result"
    }
   ],
   "source": [
    "y[0]"
   ]
  },
  {
   "cell_type": "code",
   "execution_count": 23,
   "id": "6af173e2",
   "metadata": {
    "execution": {
     "iopub.execute_input": "2022-05-03T14:14:05.386551Z",
     "iopub.status.busy": "2022-05-03T14:14:05.386247Z",
     "iopub.status.idle": "2022-05-03T14:14:05.390809Z",
     "shell.execute_reply": "2022-05-03T14:14:05.389804Z"
    },
    "papermill": {
     "duration": 0.049358,
     "end_time": "2022-05-03T14:14:05.392994",
     "exception": false,
     "start_time": "2022-05-03T14:14:05.343636",
     "status": "completed"
    },
    "tags": []
   },
   "outputs": [],
   "source": [
    "seq_len = X.shape[1]"
   ]
  },
  {
   "cell_type": "code",
   "execution_count": 24,
   "id": "0e107f9d",
   "metadata": {
    "execution": {
     "iopub.execute_input": "2022-05-03T14:14:05.473636Z",
     "iopub.status.busy": "2022-05-03T14:14:05.472873Z",
     "iopub.status.idle": "2022-05-03T14:14:05.479065Z",
     "shell.execute_reply": "2022-05-03T14:14:05.478111Z"
    },
    "papermill": {
     "duration": 0.049284,
     "end_time": "2022-05-03T14:14:05.481586",
     "exception": false,
     "start_time": "2022-05-03T14:14:05.432302",
     "status": "completed"
    },
    "tags": []
   },
   "outputs": [
    {
     "data": {
      "text/plain": [
       "50"
      ]
     },
     "execution_count": 24,
     "metadata": {},
     "output_type": "execute_result"
    }
   ],
   "source": [
    "seq_len"
   ]
  },
  {
   "cell_type": "code",
   "execution_count": 25,
   "id": "5588eae1",
   "metadata": {
    "execution": {
     "iopub.execute_input": "2022-05-03T14:14:05.563358Z",
     "iopub.status.busy": "2022-05-03T14:14:05.562424Z",
     "iopub.status.idle": "2022-05-03T14:14:08.956421Z",
     "shell.execute_reply": "2022-05-03T14:14:08.955465Z"
    },
    "papermill": {
     "duration": 3.437627,
     "end_time": "2022-05-03T14:14:08.959014",
     "exception": false,
     "start_time": "2022-05-03T14:14:05.521387",
     "status": "completed"
    },
    "tags": []
   },
   "outputs": [
    {
     "name": "stderr",
     "output_type": "stream",
     "text": [
      "2022-05-03 14:14:05.658523: I tensorflow/stream_executor/cuda/cuda_gpu_executor.cc:937] successful NUMA node read from SysFS had negative value (-1), but there must be at least one NUMA node, so returning NUMA node zero\n",
      "2022-05-03 14:14:05.762249: I tensorflow/stream_executor/cuda/cuda_gpu_executor.cc:937] successful NUMA node read from SysFS had negative value (-1), but there must be at least one NUMA node, so returning NUMA node zero\n",
      "2022-05-03 14:14:05.763394: I tensorflow/stream_executor/cuda/cuda_gpu_executor.cc:937] successful NUMA node read from SysFS had negative value (-1), but there must be at least one NUMA node, so returning NUMA node zero\n",
      "2022-05-03 14:14:05.765178: I tensorflow/core/platform/cpu_feature_guard.cc:142] This TensorFlow binary is optimized with oneAPI Deep Neural Network Library (oneDNN) to use the following CPU instructions in performance-critical operations:  AVX2 FMA\n",
      "To enable them in other operations, rebuild TensorFlow with the appropriate compiler flags.\n",
      "2022-05-03 14:14:05.765622: I tensorflow/stream_executor/cuda/cuda_gpu_executor.cc:937] successful NUMA node read from SysFS had negative value (-1), but there must be at least one NUMA node, so returning NUMA node zero\n",
      "2022-05-03 14:14:05.766913: I tensorflow/stream_executor/cuda/cuda_gpu_executor.cc:937] successful NUMA node read from SysFS had negative value (-1), but there must be at least one NUMA node, so returning NUMA node zero\n",
      "2022-05-03 14:14:05.768259: I tensorflow/stream_executor/cuda/cuda_gpu_executor.cc:937] successful NUMA node read from SysFS had negative value (-1), but there must be at least one NUMA node, so returning NUMA node zero\n",
      "2022-05-03 14:14:07.999952: I tensorflow/stream_executor/cuda/cuda_gpu_executor.cc:937] successful NUMA node read from SysFS had negative value (-1), but there must be at least one NUMA node, so returning NUMA node zero\n",
      "2022-05-03 14:14:08.001122: I tensorflow/stream_executor/cuda/cuda_gpu_executor.cc:937] successful NUMA node read from SysFS had negative value (-1), but there must be at least one NUMA node, so returning NUMA node zero\n",
      "2022-05-03 14:14:08.002056: I tensorflow/stream_executor/cuda/cuda_gpu_executor.cc:937] successful NUMA node read from SysFS had negative value (-1), but there must be at least one NUMA node, so returning NUMA node zero\n",
      "2022-05-03 14:14:08.003704: I tensorflow/core/common_runtime/gpu/gpu_device.cc:1510] Created device /job:localhost/replica:0/task:0/device:GPU:0 with 15403 MB memory:  -> device: 0, name: Tesla P100-PCIE-16GB, pci bus id: 0000:00:04.0, compute capability: 6.0\n"
     ]
    }
   ],
   "source": [
    "#Building Model\n",
    "\n",
    "model = Sequential()\n",
    "model.add(Embedding(vocab_size, 50, input_length=seq_len))\n",
    "model.add(LSTM(200, return_sequences=True))\n",
    "model.add(LSTM(100))\n",
    "model.add(Dense(100, activation='relu'))\n",
    "model.add(Dense(vocab_size, activation='softmax'))"
   ]
  },
  {
   "cell_type": "code",
   "execution_count": 26,
   "id": "81d47e45",
   "metadata": {
    "execution": {
     "iopub.execute_input": "2022-05-03T14:14:09.041510Z",
     "iopub.status.busy": "2022-05-03T14:14:09.041193Z",
     "iopub.status.idle": "2022-05-03T14:14:09.052106Z",
     "shell.execute_reply": "2022-05-03T14:14:09.051098Z"
    },
    "papermill": {
     "duration": 0.055588,
     "end_time": "2022-05-03T14:14:09.055253",
     "exception": false,
     "start_time": "2022-05-03T14:14:08.999665",
     "status": "completed"
    },
    "tags": []
   },
   "outputs": [
    {
     "name": "stdout",
     "output_type": "stream",
     "text": [
      "Model: \"sequential\"\n",
      "_________________________________________________________________\n",
      "Layer (type)                 Output Shape              Param #   \n",
      "=================================================================\n",
      "embedding (Embedding)        (None, 50, 50)            301450    \n",
      "_________________________________________________________________\n",
      "lstm (LSTM)                  (None, 50, 200)           200800    \n",
      "_________________________________________________________________\n",
      "lstm_1 (LSTM)                (None, 100)               120400    \n",
      "_________________________________________________________________\n",
      "dense (Dense)                (None, 100)               10100     \n",
      "_________________________________________________________________\n",
      "dense_1 (Dense)              (None, 6029)              608929    \n",
      "=================================================================\n",
      "Total params: 1,241,679\n",
      "Trainable params: 1,241,679\n",
      "Non-trainable params: 0\n",
      "_________________________________________________________________\n"
     ]
    }
   ],
   "source": [
    "model.summary()"
   ]
  },
  {
   "cell_type": "code",
   "execution_count": 27,
   "id": "f0bde4ce",
   "metadata": {
    "execution": {
     "iopub.execute_input": "2022-05-03T14:14:09.140217Z",
     "iopub.status.busy": "2022-05-03T14:14:09.139473Z",
     "iopub.status.idle": "2022-05-03T14:14:09.154373Z",
     "shell.execute_reply": "2022-05-03T14:14:09.153458Z"
    },
    "papermill": {
     "duration": 0.059163,
     "end_time": "2022-05-03T14:14:09.156680",
     "exception": false,
     "start_time": "2022-05-03T14:14:09.097517",
     "status": "completed"
    },
    "tags": []
   },
   "outputs": [],
   "source": [
    "model.compile(loss='categorical_crossentropy', optimizer='adam', metrics=['accuracy'])"
   ]
  },
  {
   "cell_type": "code",
   "execution_count": 28,
   "id": "edaabdc4",
   "metadata": {
    "execution": {
     "iopub.execute_input": "2022-05-03T14:14:09.240558Z",
     "iopub.status.busy": "2022-05-03T14:14:09.240235Z",
     "iopub.status.idle": "2022-05-03T14:32:37.320341Z",
     "shell.execute_reply": "2022-05-03T14:32:37.319342Z"
    },
    "papermill": {
     "duration": 1116.420724,
     "end_time": "2022-05-03T14:32:45.618627",
     "exception": false,
     "start_time": "2022-05-03T14:14:09.197903",
     "status": "completed"
    },
    "tags": []
   },
   "outputs": [
    {
     "name": "stderr",
     "output_type": "stream",
     "text": [
      "2022-05-03 14:14:09.269433: W tensorflow/core/framework/cpu_allocator_impl.cc:80] Allocation of 1204618316 exceeds 10% of free system memory.\n",
      "2022-05-03 14:14:10.631188: W tensorflow/core/framework/cpu_allocator_impl.cc:80] Allocation of 1204618316 exceeds 10% of free system memory.\n",
      "2022-05-03 14:14:11.702465: I tensorflow/compiler/mlir/mlir_graph_optimization_pass.cc:185] None of the MLIR Optimization Passes are enabled (registered 2)\n"
     ]
    },
    {
     "name": "stdout",
     "output_type": "stream",
     "text": [
      "Epoch 1/100\n"
     ]
    },
    {
     "name": "stderr",
     "output_type": "stream",
     "text": [
      "2022-05-03 14:14:16.343578: I tensorflow/stream_executor/cuda/cuda_dnn.cc:369] Loaded cuDNN version 8005\n"
     ]
    },
    {
     "name": "stdout",
     "output_type": "stream",
     "text": [
      "781/781 [==============================] - 16s 13ms/step - loss: 6.8332 - accuracy: 0.0250\n",
      "Epoch 2/100\n",
      "781/781 [==============================] - 10s 13ms/step - loss: 6.4876 - accuracy: 0.0345\n",
      "Epoch 3/100\n",
      "781/781 [==============================] - 10s 13ms/step - loss: 6.3327 - accuracy: 0.0399\n",
      "Epoch 4/100\n",
      "781/781 [==============================] - 10s 13ms/step - loss: 6.1943 - accuracy: 0.0490\n",
      "Epoch 5/100\n",
      "781/781 [==============================] - 10s 13ms/step - loss: 6.0571 - accuracy: 0.0576\n",
      "Epoch 6/100\n",
      "781/781 [==============================] - 10s 13ms/step - loss: 5.9410 - accuracy: 0.0616\n",
      "Epoch 7/100\n",
      "781/781 [==============================] - 11s 14ms/step - loss: 5.8408 - accuracy: 0.0661\n",
      "Epoch 8/100\n",
      "781/781 [==============================] - 10s 13ms/step - loss: 5.7441 - accuracy: 0.0712\n",
      "Epoch 9/100\n",
      "781/781 [==============================] - 10s 13ms/step - loss: 5.6623 - accuracy: 0.0776\n",
      "Epoch 10/100\n",
      "781/781 [==============================] - 10s 13ms/step - loss: 5.5756 - accuracy: 0.0805\n",
      "Epoch 11/100\n",
      "781/781 [==============================] - 11s 14ms/step - loss: 5.4993 - accuracy: 0.0848\n",
      "Epoch 12/100\n",
      "781/781 [==============================] - 11s 14ms/step - loss: 5.4228 - accuracy: 0.0882\n",
      "Epoch 13/100\n",
      "781/781 [==============================] - 10s 13ms/step - loss: 5.3443 - accuracy: 0.0926\n",
      "Epoch 14/100\n",
      "781/781 [==============================] - 11s 14ms/step - loss: 5.3326 - accuracy: 0.0941\n",
      "Epoch 15/100\n",
      "781/781 [==============================] - 11s 13ms/step - loss: 5.2975 - accuracy: 0.0953\n",
      "Epoch 16/100\n",
      "781/781 [==============================] - 10s 13ms/step - loss: 5.2095 - accuracy: 0.0997\n",
      "Epoch 17/100\n",
      "781/781 [==============================] - 11s 14ms/step - loss: 5.1193 - accuracy: 0.1038\n",
      "Epoch 18/100\n",
      "781/781 [==============================] - 11s 14ms/step - loss: 5.0528 - accuracy: 0.1073\n",
      "Epoch 19/100\n",
      "781/781 [==============================] - 10s 13ms/step - loss: 4.9653 - accuracy: 0.1117\n",
      "Epoch 20/100\n",
      "781/781 [==============================] - 10s 13ms/step - loss: 4.8758 - accuracy: 0.1169\n",
      "Epoch 21/100\n",
      "781/781 [==============================] - 11s 14ms/step - loss: 4.8105 - accuracy: 0.1173\n",
      "Epoch 22/100\n",
      "781/781 [==============================] - 10s 13ms/step - loss: 4.7315 - accuracy: 0.1222\n",
      "Epoch 23/100\n",
      "781/781 [==============================] - 10s 13ms/step - loss: 4.7057 - accuracy: 0.1231\n",
      "Epoch 24/100\n",
      "781/781 [==============================] - 11s 14ms/step - loss: 4.6414 - accuracy: 0.1265\n",
      "Epoch 25/100\n",
      "781/781 [==============================] - 11s 14ms/step - loss: 4.5389 - accuracy: 0.1328\n",
      "Epoch 26/100\n",
      "781/781 [==============================] - 10s 13ms/step - loss: 4.4524 - accuracy: 0.1377\n",
      "Epoch 27/100\n",
      "781/781 [==============================] - 10s 13ms/step - loss: 4.5592 - accuracy: 0.1357\n",
      "Epoch 28/100\n",
      "781/781 [==============================] - 12s 15ms/step - loss: 4.5218 - accuracy: 0.1379\n",
      "Epoch 29/100\n",
      "781/781 [==============================] - 10s 13ms/step - loss: 4.4866 - accuracy: 0.1404\n",
      "Epoch 30/100\n",
      "781/781 [==============================] - 10s 13ms/step - loss: 4.4026 - accuracy: 0.1446\n",
      "Epoch 31/100\n",
      "781/781 [==============================] - 11s 14ms/step - loss: 4.3234 - accuracy: 0.1513\n",
      "Epoch 32/100\n",
      "781/781 [==============================] - 11s 14ms/step - loss: 4.2416 - accuracy: 0.1578\n",
      "Epoch 33/100\n",
      "781/781 [==============================] - 10s 13ms/step - loss: 4.1647 - accuracy: 0.1653\n",
      "Epoch 34/100\n",
      "781/781 [==============================] - 10s 13ms/step - loss: 4.0889 - accuracy: 0.1725\n",
      "Epoch 35/100\n",
      "781/781 [==============================] - 11s 15ms/step - loss: 4.0068 - accuracy: 0.1813\n",
      "Epoch 36/100\n",
      "781/781 [==============================] - 10s 13ms/step - loss: 3.9336 - accuracy: 0.1898\n",
      "Epoch 37/100\n",
      "781/781 [==============================] - 10s 13ms/step - loss: 3.8563 - accuracy: 0.2001\n",
      "Epoch 38/100\n",
      "781/781 [==============================] - 11s 14ms/step - loss: 3.7826 - accuracy: 0.2093\n",
      "Epoch 39/100\n",
      "781/781 [==============================] - 10s 13ms/step - loss: 3.7100 - accuracy: 0.2175\n",
      "Epoch 40/100\n",
      "781/781 [==============================] - 11s 14ms/step - loss: 3.6387 - accuracy: 0.2281\n",
      "Epoch 41/100\n",
      "781/781 [==============================] - 10s 13ms/step - loss: 3.5685 - accuracy: 0.2365\n",
      "Epoch 42/100\n",
      "781/781 [==============================] - 12s 15ms/step - loss: 3.4985 - accuracy: 0.2482\n",
      "Epoch 43/100\n",
      "781/781 [==============================] - 11s 14ms/step - loss: 3.4269 - accuracy: 0.2607\n",
      "Epoch 44/100\n",
      "781/781 [==============================] - 10s 13ms/step - loss: 3.3627 - accuracy: 0.2705\n",
      "Epoch 45/100\n",
      "781/781 [==============================] - 10s 13ms/step - loss: 3.2929 - accuracy: 0.2813\n",
      "Epoch 46/100\n",
      "781/781 [==============================] - 11s 14ms/step - loss: 3.2335 - accuracy: 0.2898\n",
      "Epoch 47/100\n",
      "781/781 [==============================] - 10s 13ms/step - loss: 3.1657 - accuracy: 0.2993\n",
      "Epoch 48/100\n",
      "781/781 [==============================] - 11s 14ms/step - loss: 3.1007 - accuracy: 0.3129\n",
      "Epoch 49/100\n",
      "781/781 [==============================] - 11s 15ms/step - loss: 3.0435 - accuracy: 0.3226\n",
      "Epoch 50/100\n",
      "781/781 [==============================] - 10s 13ms/step - loss: 2.9784 - accuracy: 0.3345\n",
      "Epoch 51/100\n",
      "781/781 [==============================] - 10s 13ms/step - loss: 2.9215 - accuracy: 0.3402\n",
      "Epoch 52/100\n",
      "781/781 [==============================] - 10s 13ms/step - loss: 2.8609 - accuracy: 0.3521\n",
      "Epoch 53/100\n",
      "781/781 [==============================] - 11s 14ms/step - loss: 2.8035 - accuracy: 0.3633\n",
      "Epoch 54/100\n",
      "781/781 [==============================] - 10s 13ms/step - loss: 2.7406 - accuracy: 0.3746\n",
      "Epoch 55/100\n",
      "781/781 [==============================] - 12s 15ms/step - loss: 2.6960 - accuracy: 0.3828\n",
      "Epoch 56/100\n",
      "781/781 [==============================] - 11s 14ms/step - loss: 2.6326 - accuracy: 0.3953\n",
      "Epoch 57/100\n",
      "781/781 [==============================] - 10s 13ms/step - loss: 2.5846 - accuracy: 0.4027\n",
      "Epoch 58/100\n",
      "781/781 [==============================] - 10s 13ms/step - loss: 2.5237 - accuracy: 0.4161\n",
      "Epoch 59/100\n",
      "781/781 [==============================] - 10s 13ms/step - loss: 2.4697 - accuracy: 0.4254\n",
      "Epoch 60/100\n",
      "781/781 [==============================] - 10s 13ms/step - loss: 2.4196 - accuracy: 0.4338\n",
      "Epoch 61/100\n",
      "781/781 [==============================] - 10s 13ms/step - loss: 2.4133 - accuracy: 0.4340\n",
      "Epoch 62/100\n",
      "781/781 [==============================] - 12s 15ms/step - loss: 2.3111 - accuracy: 0.4572\n",
      "Epoch 63/100\n",
      "781/781 [==============================] - 10s 13ms/step - loss: 2.2540 - accuracy: 0.4687\n",
      "Epoch 64/100\n",
      "781/781 [==============================] - 10s 12ms/step - loss: 2.2087 - accuracy: 0.4772\n",
      "Epoch 65/100\n",
      "781/781 [==============================] - 10s 12ms/step - loss: 2.1703 - accuracy: 0.4857\n",
      "Epoch 66/100\n",
      "781/781 [==============================] - 10s 13ms/step - loss: 2.1342 - accuracy: 0.4908\n",
      "Epoch 67/100\n",
      "781/781 [==============================] - 10s 12ms/step - loss: 2.0854 - accuracy: 0.5016\n",
      "Epoch 68/100\n",
      "781/781 [==============================] - 10s 12ms/step - loss: 2.0488 - accuracy: 0.5085\n",
      "Epoch 69/100\n",
      "781/781 [==============================] - 12s 16ms/step - loss: 2.0097 - accuracy: 0.5190\n",
      "Epoch 70/100\n",
      "781/781 [==============================] - 10s 13ms/step - loss: 1.9604 - accuracy: 0.5258\n",
      "Epoch 71/100\n",
      "781/781 [==============================] - 10s 13ms/step - loss: 1.9177 - accuracy: 0.5351\n",
      "Epoch 72/100\n",
      "781/781 [==============================] - 10s 13ms/step - loss: 1.8812 - accuracy: 0.5439\n",
      "Epoch 73/100\n",
      "781/781 [==============================] - 10s 13ms/step - loss: 1.8365 - accuracy: 0.5537\n",
      "Epoch 74/100\n",
      "781/781 [==============================] - 10s 13ms/step - loss: 1.7950 - accuracy: 0.5630\n",
      "Epoch 75/100\n",
      "781/781 [==============================] - 10s 13ms/step - loss: 1.7572 - accuracy: 0.5693\n",
      "Epoch 76/100\n",
      "781/781 [==============================] - 13s 17ms/step - loss: 1.7183 - accuracy: 0.5790\n",
      "Epoch 77/100\n",
      "781/781 [==============================] - 11s 14ms/step - loss: 1.6689 - accuracy: 0.5902\n",
      "Epoch 78/100\n",
      "781/781 [==============================] - 10s 13ms/step - loss: 1.6368 - accuracy: 0.5979\n",
      "Epoch 79/100\n",
      "781/781 [==============================] - 11s 14ms/step - loss: 1.6070 - accuracy: 0.6024\n",
      "Epoch 80/100\n",
      "781/781 [==============================] - 10s 13ms/step - loss: 1.5640 - accuracy: 0.6148\n",
      "Epoch 81/100\n",
      "781/781 [==============================] - 10s 13ms/step - loss: 1.5241 - accuracy: 0.6228\n",
      "Epoch 82/100\n",
      "781/781 [==============================] - 11s 14ms/step - loss: 1.4923 - accuracy: 0.6313\n",
      "Epoch 83/100\n",
      "781/781 [==============================] - 10s 13ms/step - loss: 1.4563 - accuracy: 0.6383\n",
      "Epoch 84/100\n",
      "781/781 [==============================] - 10s 13ms/step - loss: 1.4201 - accuracy: 0.6459\n",
      "Epoch 85/100\n",
      "781/781 [==============================] - 11s 13ms/step - loss: 1.3938 - accuracy: 0.6524\n",
      "Epoch 86/100\n",
      "781/781 [==============================] - 10s 13ms/step - loss: 1.3566 - accuracy: 0.6627\n",
      "Epoch 87/100\n",
      "781/781 [==============================] - 10s 13ms/step - loss: 1.3297 - accuracy: 0.6649\n",
      "Epoch 88/100\n",
      "781/781 [==============================] - 11s 14ms/step - loss: 1.2949 - accuracy: 0.6745\n",
      "Epoch 89/100\n",
      "781/781 [==============================] - 13s 16ms/step - loss: 1.2569 - accuracy: 0.6849\n",
      "Epoch 90/100\n",
      "781/781 [==============================] - 11s 14ms/step - loss: 1.2245 - accuracy: 0.6934\n",
      "Epoch 91/100\n",
      "781/781 [==============================] - 11s 14ms/step - loss: 1.2036 - accuracy: 0.6962\n",
      "Epoch 92/100\n",
      "781/781 [==============================] - 10s 13ms/step - loss: 1.1727 - accuracy: 0.7032\n",
      "Epoch 93/100\n",
      "781/781 [==============================] - 10s 13ms/step - loss: 1.1431 - accuracy: 0.7123\n",
      "Epoch 94/100\n",
      "781/781 [==============================] - 10s 13ms/step - loss: 1.1248 - accuracy: 0.7139\n",
      "Epoch 95/100\n",
      "781/781 [==============================] - 11s 14ms/step - loss: 1.0858 - accuracy: 0.7267\n",
      "Epoch 96/100\n",
      "781/781 [==============================] - 10s 13ms/step - loss: 1.0485 - accuracy: 0.7331\n",
      "Epoch 97/100\n",
      "781/781 [==============================] - 10s 13ms/step - loss: 1.0368 - accuracy: 0.7353\n",
      "Epoch 98/100\n",
      "781/781 [==============================] - 10s 13ms/step - loss: 1.0077 - accuracy: 0.7417\n",
      "Epoch 99/100\n",
      "781/781 [==============================] - 10s 13ms/step - loss: 0.9848 - accuracy: 0.7490\n",
      "Epoch 100/100\n",
      "781/781 [==============================] - 10s 13ms/step - loss: 0.9597 - accuracy: 0.7543\n"
     ]
    },
    {
     "data": {
      "text/plain": [
       "<keras.callbacks.History at 0x7fa6ce445b10>"
      ]
     },
     "execution_count": 28,
     "metadata": {},
     "output_type": "execute_result"
    }
   ],
   "source": [
    "model.fit(X, y, batch_size=64, epochs =100, verbose = 1)"
   ]
  },
  {
   "cell_type": "code",
   "execution_count": 29,
   "id": "04f3d051",
   "metadata": {
    "execution": {
     "iopub.execute_input": "2022-05-03T14:33:02.609205Z",
     "iopub.status.busy": "2022-05-03T14:33:02.608665Z",
     "iopub.status.idle": "2022-05-03T14:33:02.616660Z",
     "shell.execute_reply": "2022-05-03T14:33:02.615583Z"
    },
    "papermill": {
     "duration": 9.068216,
     "end_time": "2022-05-03T14:33:02.619283",
     "exception": false,
     "start_time": "2022-05-03T14:32:53.551067",
     "status": "completed"
    },
    "tags": []
   },
   "outputs": [],
   "source": [
    "def generate_text(model, tokenizer, text_seq_length, seed_text, n_words):\n",
    "    text = []\n",
    "    for _ in range(n_words):\n",
    "        encoded = tokenizer.texts_to_sequences([seed_text])[0]\n",
    "        encoded = pad_sequences([encoded], maxlen=text_seq_length, truncating='pre')\n",
    "        \n",
    "        y_predict = np.argmax(model.predict(encoded))\n",
    "        \n",
    "        predicted_word = ''\n",
    "        for word, index in tokenizer.word_index.items():\n",
    "            if index == y_predict:\n",
    "                predicted_word = word\n",
    "                break\n",
    "        seed_text = seed_text + ' ' + predicted_word\n",
    "        text.append(predicted_word)\n",
    "    return ' '.join(text)    \n",
    "    \n",
    "        "
   ]
  },
  {
   "cell_type": "code",
   "execution_count": 30,
   "id": "ebb21c90",
   "metadata": {
    "execution": {
     "iopub.execute_input": "2022-05-03T14:33:19.676775Z",
     "iopub.status.busy": "2022-05-03T14:33:19.676389Z",
     "iopub.status.idle": "2022-05-03T14:33:19.683244Z",
     "shell.execute_reply": "2022-05-03T14:33:19.682283Z"
    },
    "papermill": {
     "duration": 8.752936,
     "end_time": "2022-05-03T14:33:19.685623",
     "exception": false,
     "start_time": "2022-05-03T14:33:10.932687",
     "status": "completed"
    },
    "tags": []
   },
   "outputs": [
    {
     "data": {
      "text/plain": [
       "'to thy will one will of mine to make thy large will more let no unkind no fair beseechers kill think all but one and me in that one will if thy soul check thee that i come so near swear to thy blind soul that i was thy will and'"
      ]
     },
     "execution_count": 30,
     "metadata": {},
     "output_type": "execute_result"
    }
   ],
   "source": [
    "seed_text = lines[15344]\n",
    "seed_text"
   ]
  },
  {
   "cell_type": "code",
   "execution_count": 31,
   "id": "89a6fb00",
   "metadata": {
    "execution": {
     "iopub.execute_input": "2022-05-03T14:33:36.548735Z",
     "iopub.status.busy": "2022-05-03T14:33:36.548228Z",
     "iopub.status.idle": "2022-05-03T14:33:41.907451Z",
     "shell.execute_reply": "2022-05-03T14:33:41.906326Z"
    },
    "papermill": {
     "duration": 14.260424,
     "end_time": "2022-05-03T14:33:41.909898",
     "exception": false,
     "start_time": "2022-05-03T14:33:27.649474",
     "status": "completed"
    },
    "tags": []
   },
   "outputs": [
    {
     "data": {
      "text/plain": [
       "'will thou use my heart with such a suit are turned maiden flattery steals the best of more her and as too great so error and lack the property by every fear upon your vows to caesar is all my mind thy motive is not well rash and said the honour by your pleasure loves it is famished for a most state lose both sides what is black do practise upon him and me be much the prince of mine ear with their cuckold they in herself look infects the benefit of rest and bristly beard in all and time'"
      ]
     },
     "execution_count": 31,
     "metadata": {},
     "output_type": "execute_result"
    }
   ],
   "source": [
    "generate_text(model, tokenizer, seq_len, seed_text, 100)"
   ]
  },
  {
   "cell_type": "code",
   "execution_count": null,
   "id": "e1e0706f",
   "metadata": {
    "papermill": {
     "duration": 7.948828,
     "end_time": "2022-05-03T14:33:58.104159",
     "exception": false,
     "start_time": "2022-05-03T14:33:50.155331",
     "status": "completed"
    },
    "tags": []
   },
   "outputs": [],
   "source": []
  }
 ],
 "metadata": {
  "kernelspec": {
   "display_name": "Python 3",
   "language": "python",
   "name": "python3"
  },
  "language_info": {
   "codemirror_mode": {
    "name": "ipython",
    "version": 3
   },
   "file_extension": ".py",
   "mimetype": "text/x-python",
   "name": "python",
   "nbconvert_exporter": "python",
   "pygments_lexer": "ipython3",
   "version": "3.7.12"
  },
  "papermill": {
   "default_parameters": {},
   "duration": 1229.403737,
   "end_time": "2022-05-03T14:34:09.816367",
   "environment_variables": {},
   "exception": null,
   "input_path": "__notebook__.ipynb",
   "output_path": "__notebook__.ipynb",
   "parameters": {},
   "start_time": "2022-05-03T14:13:40.412630",
   "version": "2.3.4"
  }
 },
 "nbformat": 4,
 "nbformat_minor": 5
}
